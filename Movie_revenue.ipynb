{
  "nbformat": 4,
  "nbformat_minor": 0,
  "metadata": {
    "colab": {
      "provenance": [],
      "authorship_tag": "ABX9TyOViaF9bnLoIl6oYafbLTc2",
      "include_colab_link": true
    },
    "kernelspec": {
      "name": "python3",
      "display_name": "Python 3"
    },
    "language_info": {
      "name": "python"
    }
  },
  "cells": [
    {
      "cell_type": "markdown",
      "metadata": {
        "id": "view-in-github",
        "colab_type": "text"
      },
      "source": [
        "<a href=\"https://colab.research.google.com/github/Erenkyz/Movie-Revenue-Prediction-with-Transformer-on-Tabular-Data/blob/main/Movie_revenue.ipynb\" target=\"_parent\"><img src=\"https://colab.research.google.com/assets/colab-badge.svg\" alt=\"Open In Colab\"/></a>"
      ]
    },
    {
      "cell_type": "code",
      "execution_count": 1,
      "metadata": {
        "id": "-loshXGQTl_9"
      },
      "outputs": [],
      "source": [
        "import pandas as pd\n",
        "import numpy as np\n",
        "import datetime\n",
        "from sklearn.metrics import classification_report, confusion_matrix\n",
        "from sklearn.preprocessing import MinMaxScaler\n",
        "from sklearn.preprocessing import LabelEncoder\n",
        "from sklearn.model_selection import train_test_split\n",
        "from sklearn.preprocessing import StandardScaler\n",
        "import torch\n",
        "import torch.nn as nn\n",
        "import torch.nn.functional as F\n",
        "from torch.utils.data import Dataset, DataLoader\n",
        "import torch.optim as optim"
      ]
    },
    {
      "cell_type": "markdown",
      "source": [
        "## DATA PROCESSING & CLEANING"
      ],
      "metadata": {
        "id": "GJ5-0o0da9-Q"
      }
    },
    {
      "cell_type": "code",
      "source": [
        "movies_df = pd.read_csv(\"tmdb_5000_movies.csv\")\n",
        "credits = pd.read_csv(\"tmdb_5000_credits.csv\")\n",
        "\n",
        "total_samples = len(movies_df)\n",
        "print(\"Total samples:\", total_samples)\n",
        "\n",
        "total_samples = len(credits)\n",
        "print(\"Total samples:\", total_samples)"
      ],
      "metadata": {
        "id": "Enq_h4RzTpr9",
        "colab": {
          "base_uri": "https://localhost:8080/"
        },
        "outputId": "4fe01d7c-a350-4fb7-b67e-a174fdea3652"
      },
      "execution_count": 2,
      "outputs": [
        {
          "output_type": "stream",
          "name": "stdout",
          "text": [
            "Total samples: 4803\n",
            "Total samples: 4803\n"
          ]
        }
      ]
    },
    {
      "cell_type": "code",
      "source": [
        "movies_df = movies_df.merge(credits[['movie_id', 'cast', 'crew']], left_on='id', right_on='movie_id', how='left')"
      ],
      "metadata": {
        "id": "XQ-_-n3LGgJC"
      },
      "execution_count": 3,
      "outputs": []
    },
    {
      "cell_type": "code",
      "source": [
        "movies_df.head()"
      ],
      "metadata": {
        "colab": {
          "base_uri": "https://localhost:8080/",
          "height": 758
        },
        "id": "w9-g3w2HVOHv",
        "outputId": "43fbcebf-a1dd-474f-f7a7-c66f8751affa"
      },
      "execution_count": 4,
      "outputs": [
        {
          "output_type": "execute_result",
          "data": {
            "text/plain": [
              "      budget                                             genres  \\\n",
              "0  237000000  [{\"id\": 28, \"name\": \"Action\"}, {\"id\": 12, \"nam...   \n",
              "1  300000000  [{\"id\": 12, \"name\": \"Adventure\"}, {\"id\": 14, \"...   \n",
              "2  245000000  [{\"id\": 28, \"name\": \"Action\"}, {\"id\": 12, \"nam...   \n",
              "3  250000000  [{\"id\": 28, \"name\": \"Action\"}, {\"id\": 80, \"nam...   \n",
              "4  260000000  [{\"id\": 28, \"name\": \"Action\"}, {\"id\": 12, \"nam...   \n",
              "\n",
              "                                       homepage      id  \\\n",
              "0                   http://www.avatarmovie.com/   19995   \n",
              "1  http://disney.go.com/disneypictures/pirates/     285   \n",
              "2   http://www.sonypictures.com/movies/spectre/  206647   \n",
              "3            http://www.thedarkknightrises.com/   49026   \n",
              "4          http://movies.disney.com/john-carter   49529   \n",
              "\n",
              "                                            keywords original_language  \\\n",
              "0  [{\"id\": 1463, \"name\": \"culture clash\"}, {\"id\":...                en   \n",
              "1  [{\"id\": 270, \"name\": \"ocean\"}, {\"id\": 726, \"na...                en   \n",
              "2  [{\"id\": 470, \"name\": \"spy\"}, {\"id\": 818, \"name...                en   \n",
              "3  [{\"id\": 849, \"name\": \"dc comics\"}, {\"id\": 853,...                en   \n",
              "4  [{\"id\": 818, \"name\": \"based on novel\"}, {\"id\":...                en   \n",
              "\n",
              "                             original_title  \\\n",
              "0                                    Avatar   \n",
              "1  Pirates of the Caribbean: At World's End   \n",
              "2                                   Spectre   \n",
              "3                     The Dark Knight Rises   \n",
              "4                               John Carter   \n",
              "\n",
              "                                            overview  popularity  \\\n",
              "0  In the 22nd century, a paraplegic Marine is di...  150.437577   \n",
              "1  Captain Barbossa, long believed to be dead, ha...  139.082615   \n",
              "2  A cryptic message from Bond’s past sends him o...  107.376788   \n",
              "3  Following the death of District Attorney Harve...  112.312950   \n",
              "4  John Carter is a war-weary, former military ca...   43.926995   \n",
              "\n",
              "                                production_companies  ... runtime  \\\n",
              "0  [{\"name\": \"Ingenious Film Partners\", \"id\": 289...  ...   162.0   \n",
              "1  [{\"name\": \"Walt Disney Pictures\", \"id\": 2}, {\"...  ...   169.0   \n",
              "2  [{\"name\": \"Columbia Pictures\", \"id\": 5}, {\"nam...  ...   148.0   \n",
              "3  [{\"name\": \"Legendary Pictures\", \"id\": 923}, {\"...  ...   165.0   \n",
              "4        [{\"name\": \"Walt Disney Pictures\", \"id\": 2}]  ...   132.0   \n",
              "\n",
              "                                    spoken_languages    status  \\\n",
              "0  [{\"iso_639_1\": \"en\", \"name\": \"English\"}, {\"iso...  Released   \n",
              "1           [{\"iso_639_1\": \"en\", \"name\": \"English\"}]  Released   \n",
              "2  [{\"iso_639_1\": \"fr\", \"name\": \"Fran\\u00e7ais\"},...  Released   \n",
              "3           [{\"iso_639_1\": \"en\", \"name\": \"English\"}]  Released   \n",
              "4           [{\"iso_639_1\": \"en\", \"name\": \"English\"}]  Released   \n",
              "\n",
              "                                          tagline  \\\n",
              "0                     Enter the World of Pandora.   \n",
              "1  At the end of the world, the adventure begins.   \n",
              "2                           A Plan No One Escapes   \n",
              "3                                 The Legend Ends   \n",
              "4            Lost in our world, found in another.   \n",
              "\n",
              "                                      title vote_average vote_count movie_id  \\\n",
              "0                                    Avatar          7.2      11800    19995   \n",
              "1  Pirates of the Caribbean: At World's End          6.9       4500      285   \n",
              "2                                   Spectre          6.3       4466   206647   \n",
              "3                     The Dark Knight Rises          7.6       9106    49026   \n",
              "4                               John Carter          6.1       2124    49529   \n",
              "\n",
              "                                                cast  \\\n",
              "0  [{\"cast_id\": 242, \"character\": \"Jake Sully\", \"...   \n",
              "1  [{\"cast_id\": 4, \"character\": \"Captain Jack Spa...   \n",
              "2  [{\"cast_id\": 1, \"character\": \"James Bond\", \"cr...   \n",
              "3  [{\"cast_id\": 2, \"character\": \"Bruce Wayne / Ba...   \n",
              "4  [{\"cast_id\": 5, \"character\": \"John Carter\", \"c...   \n",
              "\n",
              "                                                crew  \n",
              "0  [{\"credit_id\": \"52fe48009251416c750aca23\", \"de...  \n",
              "1  [{\"credit_id\": \"52fe4232c3a36847f800b579\", \"de...  \n",
              "2  [{\"credit_id\": \"54805967c3a36829b5002c41\", \"de...  \n",
              "3  [{\"credit_id\": \"52fe4781c3a36847f81398c3\", \"de...  \n",
              "4  [{\"credit_id\": \"52fe479ac3a36847f813eaa3\", \"de...  \n",
              "\n",
              "[5 rows x 23 columns]"
            ],
            "text/html": [
              "\n",
              "  <div id=\"df-2efc45e7-c788-4c43-8d05-404d28b25a6a\" class=\"colab-df-container\">\n",
              "    <div>\n",
              "<style scoped>\n",
              "    .dataframe tbody tr th:only-of-type {\n",
              "        vertical-align: middle;\n",
              "    }\n",
              "\n",
              "    .dataframe tbody tr th {\n",
              "        vertical-align: top;\n",
              "    }\n",
              "\n",
              "    .dataframe thead th {\n",
              "        text-align: right;\n",
              "    }\n",
              "</style>\n",
              "<table border=\"1\" class=\"dataframe\">\n",
              "  <thead>\n",
              "    <tr style=\"text-align: right;\">\n",
              "      <th></th>\n",
              "      <th>budget</th>\n",
              "      <th>genres</th>\n",
              "      <th>homepage</th>\n",
              "      <th>id</th>\n",
              "      <th>keywords</th>\n",
              "      <th>original_language</th>\n",
              "      <th>original_title</th>\n",
              "      <th>overview</th>\n",
              "      <th>popularity</th>\n",
              "      <th>production_companies</th>\n",
              "      <th>...</th>\n",
              "      <th>runtime</th>\n",
              "      <th>spoken_languages</th>\n",
              "      <th>status</th>\n",
              "      <th>tagline</th>\n",
              "      <th>title</th>\n",
              "      <th>vote_average</th>\n",
              "      <th>vote_count</th>\n",
              "      <th>movie_id</th>\n",
              "      <th>cast</th>\n",
              "      <th>crew</th>\n",
              "    </tr>\n",
              "  </thead>\n",
              "  <tbody>\n",
              "    <tr>\n",
              "      <th>0</th>\n",
              "      <td>237000000</td>\n",
              "      <td>[{\"id\": 28, \"name\": \"Action\"}, {\"id\": 12, \"nam...</td>\n",
              "      <td>http://www.avatarmovie.com/</td>\n",
              "      <td>19995</td>\n",
              "      <td>[{\"id\": 1463, \"name\": \"culture clash\"}, {\"id\":...</td>\n",
              "      <td>en</td>\n",
              "      <td>Avatar</td>\n",
              "      <td>In the 22nd century, a paraplegic Marine is di...</td>\n",
              "      <td>150.437577</td>\n",
              "      <td>[{\"name\": \"Ingenious Film Partners\", \"id\": 289...</td>\n",
              "      <td>...</td>\n",
              "      <td>162.0</td>\n",
              "      <td>[{\"iso_639_1\": \"en\", \"name\": \"English\"}, {\"iso...</td>\n",
              "      <td>Released</td>\n",
              "      <td>Enter the World of Pandora.</td>\n",
              "      <td>Avatar</td>\n",
              "      <td>7.2</td>\n",
              "      <td>11800</td>\n",
              "      <td>19995</td>\n",
              "      <td>[{\"cast_id\": 242, \"character\": \"Jake Sully\", \"...</td>\n",
              "      <td>[{\"credit_id\": \"52fe48009251416c750aca23\", \"de...</td>\n",
              "    </tr>\n",
              "    <tr>\n",
              "      <th>1</th>\n",
              "      <td>300000000</td>\n",
              "      <td>[{\"id\": 12, \"name\": \"Adventure\"}, {\"id\": 14, \"...</td>\n",
              "      <td>http://disney.go.com/disneypictures/pirates/</td>\n",
              "      <td>285</td>\n",
              "      <td>[{\"id\": 270, \"name\": \"ocean\"}, {\"id\": 726, \"na...</td>\n",
              "      <td>en</td>\n",
              "      <td>Pirates of the Caribbean: At World's End</td>\n",
              "      <td>Captain Barbossa, long believed to be dead, ha...</td>\n",
              "      <td>139.082615</td>\n",
              "      <td>[{\"name\": \"Walt Disney Pictures\", \"id\": 2}, {\"...</td>\n",
              "      <td>...</td>\n",
              "      <td>169.0</td>\n",
              "      <td>[{\"iso_639_1\": \"en\", \"name\": \"English\"}]</td>\n",
              "      <td>Released</td>\n",
              "      <td>At the end of the world, the adventure begins.</td>\n",
              "      <td>Pirates of the Caribbean: At World's End</td>\n",
              "      <td>6.9</td>\n",
              "      <td>4500</td>\n",
              "      <td>285</td>\n",
              "      <td>[{\"cast_id\": 4, \"character\": \"Captain Jack Spa...</td>\n",
              "      <td>[{\"credit_id\": \"52fe4232c3a36847f800b579\", \"de...</td>\n",
              "    </tr>\n",
              "    <tr>\n",
              "      <th>2</th>\n",
              "      <td>245000000</td>\n",
              "      <td>[{\"id\": 28, \"name\": \"Action\"}, {\"id\": 12, \"nam...</td>\n",
              "      <td>http://www.sonypictures.com/movies/spectre/</td>\n",
              "      <td>206647</td>\n",
              "      <td>[{\"id\": 470, \"name\": \"spy\"}, {\"id\": 818, \"name...</td>\n",
              "      <td>en</td>\n",
              "      <td>Spectre</td>\n",
              "      <td>A cryptic message from Bond’s past sends him o...</td>\n",
              "      <td>107.376788</td>\n",
              "      <td>[{\"name\": \"Columbia Pictures\", \"id\": 5}, {\"nam...</td>\n",
              "      <td>...</td>\n",
              "      <td>148.0</td>\n",
              "      <td>[{\"iso_639_1\": \"fr\", \"name\": \"Fran\\u00e7ais\"},...</td>\n",
              "      <td>Released</td>\n",
              "      <td>A Plan No One Escapes</td>\n",
              "      <td>Spectre</td>\n",
              "      <td>6.3</td>\n",
              "      <td>4466</td>\n",
              "      <td>206647</td>\n",
              "      <td>[{\"cast_id\": 1, \"character\": \"James Bond\", \"cr...</td>\n",
              "      <td>[{\"credit_id\": \"54805967c3a36829b5002c41\", \"de...</td>\n",
              "    </tr>\n",
              "    <tr>\n",
              "      <th>3</th>\n",
              "      <td>250000000</td>\n",
              "      <td>[{\"id\": 28, \"name\": \"Action\"}, {\"id\": 80, \"nam...</td>\n",
              "      <td>http://www.thedarkknightrises.com/</td>\n",
              "      <td>49026</td>\n",
              "      <td>[{\"id\": 849, \"name\": \"dc comics\"}, {\"id\": 853,...</td>\n",
              "      <td>en</td>\n",
              "      <td>The Dark Knight Rises</td>\n",
              "      <td>Following the death of District Attorney Harve...</td>\n",
              "      <td>112.312950</td>\n",
              "      <td>[{\"name\": \"Legendary Pictures\", \"id\": 923}, {\"...</td>\n",
              "      <td>...</td>\n",
              "      <td>165.0</td>\n",
              "      <td>[{\"iso_639_1\": \"en\", \"name\": \"English\"}]</td>\n",
              "      <td>Released</td>\n",
              "      <td>The Legend Ends</td>\n",
              "      <td>The Dark Knight Rises</td>\n",
              "      <td>7.6</td>\n",
              "      <td>9106</td>\n",
              "      <td>49026</td>\n",
              "      <td>[{\"cast_id\": 2, \"character\": \"Bruce Wayne / Ba...</td>\n",
              "      <td>[{\"credit_id\": \"52fe4781c3a36847f81398c3\", \"de...</td>\n",
              "    </tr>\n",
              "    <tr>\n",
              "      <th>4</th>\n",
              "      <td>260000000</td>\n",
              "      <td>[{\"id\": 28, \"name\": \"Action\"}, {\"id\": 12, \"nam...</td>\n",
              "      <td>http://movies.disney.com/john-carter</td>\n",
              "      <td>49529</td>\n",
              "      <td>[{\"id\": 818, \"name\": \"based on novel\"}, {\"id\":...</td>\n",
              "      <td>en</td>\n",
              "      <td>John Carter</td>\n",
              "      <td>John Carter is a war-weary, former military ca...</td>\n",
              "      <td>43.926995</td>\n",
              "      <td>[{\"name\": \"Walt Disney Pictures\", \"id\": 2}]</td>\n",
              "      <td>...</td>\n",
              "      <td>132.0</td>\n",
              "      <td>[{\"iso_639_1\": \"en\", \"name\": \"English\"}]</td>\n",
              "      <td>Released</td>\n",
              "      <td>Lost in our world, found in another.</td>\n",
              "      <td>John Carter</td>\n",
              "      <td>6.1</td>\n",
              "      <td>2124</td>\n",
              "      <td>49529</td>\n",
              "      <td>[{\"cast_id\": 5, \"character\": \"John Carter\", \"c...</td>\n",
              "      <td>[{\"credit_id\": \"52fe479ac3a36847f813eaa3\", \"de...</td>\n",
              "    </tr>\n",
              "  </tbody>\n",
              "</table>\n",
              "<p>5 rows × 23 columns</p>\n",
              "</div>\n",
              "    <div class=\"colab-df-buttons\">\n",
              "\n",
              "  <div class=\"colab-df-container\">\n",
              "    <button class=\"colab-df-convert\" onclick=\"convertToInteractive('df-2efc45e7-c788-4c43-8d05-404d28b25a6a')\"\n",
              "            title=\"Convert this dataframe to an interactive table.\"\n",
              "            style=\"display:none;\">\n",
              "\n",
              "  <svg xmlns=\"http://www.w3.org/2000/svg\" height=\"24px\" viewBox=\"0 -960 960 960\">\n",
              "    <path d=\"M120-120v-720h720v720H120Zm60-500h600v-160H180v160Zm220 220h160v-160H400v160Zm0 220h160v-160H400v160ZM180-400h160v-160H180v160Zm440 0h160v-160H620v160ZM180-180h160v-160H180v160Zm440 0h160v-160H620v160Z\"/>\n",
              "  </svg>\n",
              "    </button>\n",
              "\n",
              "  <style>\n",
              "    .colab-df-container {\n",
              "      display:flex;\n",
              "      gap: 12px;\n",
              "    }\n",
              "\n",
              "    .colab-df-convert {\n",
              "      background-color: #E8F0FE;\n",
              "      border: none;\n",
              "      border-radius: 50%;\n",
              "      cursor: pointer;\n",
              "      display: none;\n",
              "      fill: #1967D2;\n",
              "      height: 32px;\n",
              "      padding: 0 0 0 0;\n",
              "      width: 32px;\n",
              "    }\n",
              "\n",
              "    .colab-df-convert:hover {\n",
              "      background-color: #E2EBFA;\n",
              "      box-shadow: 0px 1px 2px rgba(60, 64, 67, 0.3), 0px 1px 3px 1px rgba(60, 64, 67, 0.15);\n",
              "      fill: #174EA6;\n",
              "    }\n",
              "\n",
              "    .colab-df-buttons div {\n",
              "      margin-bottom: 4px;\n",
              "    }\n",
              "\n",
              "    [theme=dark] .colab-df-convert {\n",
              "      background-color: #3B4455;\n",
              "      fill: #D2E3FC;\n",
              "    }\n",
              "\n",
              "    [theme=dark] .colab-df-convert:hover {\n",
              "      background-color: #434B5C;\n",
              "      box-shadow: 0px 1px 3px 1px rgba(0, 0, 0, 0.15);\n",
              "      filter: drop-shadow(0px 1px 2px rgba(0, 0, 0, 0.3));\n",
              "      fill: #FFFFFF;\n",
              "    }\n",
              "  </style>\n",
              "\n",
              "    <script>\n",
              "      const buttonEl =\n",
              "        document.querySelector('#df-2efc45e7-c788-4c43-8d05-404d28b25a6a button.colab-df-convert');\n",
              "      buttonEl.style.display =\n",
              "        google.colab.kernel.accessAllowed ? 'block' : 'none';\n",
              "\n",
              "      async function convertToInteractive(key) {\n",
              "        const element = document.querySelector('#df-2efc45e7-c788-4c43-8d05-404d28b25a6a');\n",
              "        const dataTable =\n",
              "          await google.colab.kernel.invokeFunction('convertToInteractive',\n",
              "                                                    [key], {});\n",
              "        if (!dataTable) return;\n",
              "\n",
              "        const docLinkHtml = 'Like what you see? Visit the ' +\n",
              "          '<a target=\"_blank\" href=https://colab.research.google.com/notebooks/data_table.ipynb>data table notebook</a>'\n",
              "          + ' to learn more about interactive tables.';\n",
              "        element.innerHTML = '';\n",
              "        dataTable['output_type'] = 'display_data';\n",
              "        await google.colab.output.renderOutput(dataTable, element);\n",
              "        const docLink = document.createElement('div');\n",
              "        docLink.innerHTML = docLinkHtml;\n",
              "        element.appendChild(docLink);\n",
              "      }\n",
              "    </script>\n",
              "  </div>\n",
              "\n",
              "\n",
              "    <div id=\"df-400797e4-5f6f-4047-a5d4-51a1c0a81ef5\">\n",
              "      <button class=\"colab-df-quickchart\" onclick=\"quickchart('df-400797e4-5f6f-4047-a5d4-51a1c0a81ef5')\"\n",
              "                title=\"Suggest charts\"\n",
              "                style=\"display:none;\">\n",
              "\n",
              "<svg xmlns=\"http://www.w3.org/2000/svg\" height=\"24px\"viewBox=\"0 0 24 24\"\n",
              "     width=\"24px\">\n",
              "    <g>\n",
              "        <path d=\"M19 3H5c-1.1 0-2 .9-2 2v14c0 1.1.9 2 2 2h14c1.1 0 2-.9 2-2V5c0-1.1-.9-2-2-2zM9 17H7v-7h2v7zm4 0h-2V7h2v10zm4 0h-2v-4h2v4z\"/>\n",
              "    </g>\n",
              "</svg>\n",
              "      </button>\n",
              "\n",
              "<style>\n",
              "  .colab-df-quickchart {\n",
              "      --bg-color: #E8F0FE;\n",
              "      --fill-color: #1967D2;\n",
              "      --hover-bg-color: #E2EBFA;\n",
              "      --hover-fill-color: #174EA6;\n",
              "      --disabled-fill-color: #AAA;\n",
              "      --disabled-bg-color: #DDD;\n",
              "  }\n",
              "\n",
              "  [theme=dark] .colab-df-quickchart {\n",
              "      --bg-color: #3B4455;\n",
              "      --fill-color: #D2E3FC;\n",
              "      --hover-bg-color: #434B5C;\n",
              "      --hover-fill-color: #FFFFFF;\n",
              "      --disabled-bg-color: #3B4455;\n",
              "      --disabled-fill-color: #666;\n",
              "  }\n",
              "\n",
              "  .colab-df-quickchart {\n",
              "    background-color: var(--bg-color);\n",
              "    border: none;\n",
              "    border-radius: 50%;\n",
              "    cursor: pointer;\n",
              "    display: none;\n",
              "    fill: var(--fill-color);\n",
              "    height: 32px;\n",
              "    padding: 0;\n",
              "    width: 32px;\n",
              "  }\n",
              "\n",
              "  .colab-df-quickchart:hover {\n",
              "    background-color: var(--hover-bg-color);\n",
              "    box-shadow: 0 1px 2px rgba(60, 64, 67, 0.3), 0 1px 3px 1px rgba(60, 64, 67, 0.15);\n",
              "    fill: var(--button-hover-fill-color);\n",
              "  }\n",
              "\n",
              "  .colab-df-quickchart-complete:disabled,\n",
              "  .colab-df-quickchart-complete:disabled:hover {\n",
              "    background-color: var(--disabled-bg-color);\n",
              "    fill: var(--disabled-fill-color);\n",
              "    box-shadow: none;\n",
              "  }\n",
              "\n",
              "  .colab-df-spinner {\n",
              "    border: 2px solid var(--fill-color);\n",
              "    border-color: transparent;\n",
              "    border-bottom-color: var(--fill-color);\n",
              "    animation:\n",
              "      spin 1s steps(1) infinite;\n",
              "  }\n",
              "\n",
              "  @keyframes spin {\n",
              "    0% {\n",
              "      border-color: transparent;\n",
              "      border-bottom-color: var(--fill-color);\n",
              "      border-left-color: var(--fill-color);\n",
              "    }\n",
              "    20% {\n",
              "      border-color: transparent;\n",
              "      border-left-color: var(--fill-color);\n",
              "      border-top-color: var(--fill-color);\n",
              "    }\n",
              "    30% {\n",
              "      border-color: transparent;\n",
              "      border-left-color: var(--fill-color);\n",
              "      border-top-color: var(--fill-color);\n",
              "      border-right-color: var(--fill-color);\n",
              "    }\n",
              "    40% {\n",
              "      border-color: transparent;\n",
              "      border-right-color: var(--fill-color);\n",
              "      border-top-color: var(--fill-color);\n",
              "    }\n",
              "    60% {\n",
              "      border-color: transparent;\n",
              "      border-right-color: var(--fill-color);\n",
              "    }\n",
              "    80% {\n",
              "      border-color: transparent;\n",
              "      border-right-color: var(--fill-color);\n",
              "      border-bottom-color: var(--fill-color);\n",
              "    }\n",
              "    90% {\n",
              "      border-color: transparent;\n",
              "      border-bottom-color: var(--fill-color);\n",
              "    }\n",
              "  }\n",
              "</style>\n",
              "\n",
              "      <script>\n",
              "        async function quickchart(key) {\n",
              "          const quickchartButtonEl =\n",
              "            document.querySelector('#' + key + ' button');\n",
              "          quickchartButtonEl.disabled = true;  // To prevent multiple clicks.\n",
              "          quickchartButtonEl.classList.add('colab-df-spinner');\n",
              "          try {\n",
              "            const charts = await google.colab.kernel.invokeFunction(\n",
              "                'suggestCharts', [key], {});\n",
              "          } catch (error) {\n",
              "            console.error('Error during call to suggestCharts:', error);\n",
              "          }\n",
              "          quickchartButtonEl.classList.remove('colab-df-spinner');\n",
              "          quickchartButtonEl.classList.add('colab-df-quickchart-complete');\n",
              "        }\n",
              "        (() => {\n",
              "          let quickchartButtonEl =\n",
              "            document.querySelector('#df-400797e4-5f6f-4047-a5d4-51a1c0a81ef5 button');\n",
              "          quickchartButtonEl.style.display =\n",
              "            google.colab.kernel.accessAllowed ? 'block' : 'none';\n",
              "        })();\n",
              "      </script>\n",
              "    </div>\n",
              "\n",
              "    </div>\n",
              "  </div>\n"
            ],
            "application/vnd.google.colaboratory.intrinsic+json": {
              "type": "dataframe",
              "variable_name": "movies_df"
            }
          },
          "metadata": {},
          "execution_count": 4
        }
      ]
    },
    {
      "cell_type": "code",
      "source": [
        "movies_df.info()"
      ],
      "metadata": {
        "colab": {
          "base_uri": "https://localhost:8080/"
        },
        "id": "B8BzPMiLXB_R",
        "outputId": "7fb154ad-913b-4972-f59d-bcacc1ea6f3f"
      },
      "execution_count": 5,
      "outputs": [
        {
          "output_type": "stream",
          "name": "stdout",
          "text": [
            "<class 'pandas.core.frame.DataFrame'>\n",
            "RangeIndex: 4803 entries, 0 to 4802\n",
            "Data columns (total 23 columns):\n",
            " #   Column                Non-Null Count  Dtype  \n",
            "---  ------                --------------  -----  \n",
            " 0   budget                4803 non-null   int64  \n",
            " 1   genres                4803 non-null   object \n",
            " 2   homepage              1712 non-null   object \n",
            " 3   id                    4803 non-null   int64  \n",
            " 4   keywords              4803 non-null   object \n",
            " 5   original_language     4803 non-null   object \n",
            " 6   original_title        4803 non-null   object \n",
            " 7   overview              4800 non-null   object \n",
            " 8   popularity            4803 non-null   float64\n",
            " 9   production_companies  4803 non-null   object \n",
            " 10  production_countries  4803 non-null   object \n",
            " 11  release_date          4802 non-null   object \n",
            " 12  revenue               4803 non-null   int64  \n",
            " 13  runtime               4801 non-null   float64\n",
            " 14  spoken_languages      4803 non-null   object \n",
            " 15  status                4803 non-null   object \n",
            " 16  tagline               3959 non-null   object \n",
            " 17  title                 4803 non-null   object \n",
            " 18  vote_average          4803 non-null   float64\n",
            " 19  vote_count            4803 non-null   int64  \n",
            " 20  movie_id              4803 non-null   int64  \n",
            " 21  cast                  4803 non-null   object \n",
            " 22  crew                  4803 non-null   object \n",
            "dtypes: float64(3), int64(5), object(15)\n",
            "memory usage: 863.2+ KB\n"
          ]
        }
      ]
    },
    {
      "cell_type": "code",
      "source": [
        "total_samples = len(movies_df)\n",
        "print(\"Total samples:\", total_samples)"
      ],
      "metadata": {
        "colab": {
          "base_uri": "https://localhost:8080/"
        },
        "id": "Pt9T0CDrGM5X",
        "outputId": "24168703-5793-4a9b-826d-52eac773d316"
      },
      "execution_count": 6,
      "outputs": [
        {
          "output_type": "stream",
          "name": "stdout",
          "text": [
            "Total samples: 4803\n"
          ]
        }
      ]
    },
    {
      "cell_type": "code",
      "source": [
        "movies_df = movies_df[[\"budget\",\"genres\",\"production_companies\",\"keywords\",\"original_language\",\"popularity\",\"release_date\",\"revenue\",\"runtime\",\"vote_average\",\"movie_id\",\"cast\",\"crew\"]]\n"
      ],
      "metadata": {
        "id": "glyq5B9IXHHk"
      },
      "execution_count": 7,
      "outputs": []
    },
    {
      "cell_type": "code",
      "source": [
        "print(movies_df.isnull().sum())"
      ],
      "metadata": {
        "colab": {
          "base_uri": "https://localhost:8080/"
        },
        "id": "W6ozUqsnE5N7",
        "outputId": "db2c6bf8-2e24-4b3f-e6f7-064061e9bef2"
      },
      "execution_count": 8,
      "outputs": [
        {
          "output_type": "stream",
          "name": "stdout",
          "text": [
            "budget                  0\n",
            "genres                  0\n",
            "production_companies    0\n",
            "keywords                0\n",
            "original_language       0\n",
            "popularity              0\n",
            "release_date            1\n",
            "revenue                 0\n",
            "runtime                 2\n",
            "vote_average            0\n",
            "movie_id                0\n",
            "cast                    0\n",
            "crew                    0\n",
            "dtype: int64\n"
          ]
        }
      ]
    },
    {
      "cell_type": "code",
      "source": [
        "print(movies_df.isnull().sum())\n",
        "\n",
        "\n",
        "movies_df['budget'] = movies_df['budget'].fillna(movies_df['budget'].median())\n",
        "movies_df['revenue'] = movies_df['revenue'].fillna(movies_df['revenue'].median())\n",
        "movies_df['runtime'] = movies_df['runtime'].fillna(movies_df['runtime'].median())\n",
        "movies_df['popularity'] = movies_df['popularity'].fillna(movies_df['popularity'].median())\n",
        "movies_df['vote_average'] = movies_df['vote_average'].fillna(movies_df['vote_average'].median())\n",
        "\n",
        "movies_df['original_language'] = movies_df['original_language'].fillna('en')\n",
        "movies_df['genres'] = movies_df['genres'].fillna('[]')\n",
        "movies_df['production_companies'] = movies_df['production_companies'].fillna('[]')\n",
        "movies_df['keywords'] = movies_df['keywords'].fillna('[]')\n",
        "movies_df['cast'] = movies_df['cast'].fillna('[]')\n",
        "movies_df['crew'] = movies_df['crew'].fillna('[]')\n",
        "\n",
        "\n",
        "movies_df['release_date'] = movies_df['release_date'].fillna('2000-01-01')\n",
        "movies_df.dropna(inplace=True)"
      ],
      "metadata": {
        "colab": {
          "base_uri": "https://localhost:8080/"
        },
        "id": "h4QySlCSifZh",
        "outputId": "e267acf6-fcd7-4529-83b0-5079e67fc658"
      },
      "execution_count": 9,
      "outputs": [
        {
          "output_type": "stream",
          "name": "stdout",
          "text": [
            "budget                  0\n",
            "genres                  0\n",
            "production_companies    0\n",
            "keywords                0\n",
            "original_language       0\n",
            "popularity              0\n",
            "release_date            1\n",
            "revenue                 0\n",
            "runtime                 2\n",
            "vote_average            0\n",
            "movie_id                0\n",
            "cast                    0\n",
            "crew                    0\n",
            "dtype: int64\n"
          ]
        }
      ]
    },
    {
      "cell_type": "code",
      "source": [
        "print(movies_df[\"genres\"])"
      ],
      "metadata": {
        "colab": {
          "base_uri": "https://localhost:8080/"
        },
        "id": "V-St9__OFu80",
        "outputId": "46df5a7f-02ef-4ebc-b2a3-4be8c86ce908"
      },
      "execution_count": 10,
      "outputs": [
        {
          "output_type": "stream",
          "name": "stdout",
          "text": [
            "0       [{\"id\": 28, \"name\": \"Action\"}, {\"id\": 12, \"nam...\n",
            "1       [{\"id\": 12, \"name\": \"Adventure\"}, {\"id\": 14, \"...\n",
            "2       [{\"id\": 28, \"name\": \"Action\"}, {\"id\": 12, \"nam...\n",
            "3       [{\"id\": 28, \"name\": \"Action\"}, {\"id\": 80, \"nam...\n",
            "4       [{\"id\": 28, \"name\": \"Action\"}, {\"id\": 12, \"nam...\n",
            "                              ...                        \n",
            "4798    [{\"id\": 28, \"name\": \"Action\"}, {\"id\": 80, \"nam...\n",
            "4799    [{\"id\": 35, \"name\": \"Comedy\"}, {\"id\": 10749, \"...\n",
            "4800    [{\"id\": 35, \"name\": \"Comedy\"}, {\"id\": 18, \"nam...\n",
            "4801                                                   []\n",
            "4802                  [{\"id\": 99, \"name\": \"Documentary\"}]\n",
            "Name: genres, Length: 4803, dtype: object\n"
          ]
        }
      ]
    },
    {
      "cell_type": "code",
      "source": [
        "import ast\n",
        "\n",
        "def parse_and_join_genres(genre_str):\n",
        "    try:\n",
        "        genres = ast.literal_eval(genre_str)\n",
        "        if isinstance(genres, list):\n",
        "          names = sorted([g[\"name\"] for g in genres])\n",
        "          return \"|\".join(names) if names else \"None\"\n",
        "    except:\n",
        "        return \"None\"\n",
        "\n",
        "movies_df[\"genre_group\"] = movies_df[\"genres\"].apply(parse_and_join_genres)"
      ],
      "metadata": {
        "id": "pxCPX1rgGquc"
      },
      "execution_count": 11,
      "outputs": []
    },
    {
      "cell_type": "code",
      "source": [
        "def extract_main_company(companies_str):\n",
        "    try:\n",
        "        companies = ast.literal_eval(companies_str)\n",
        "        if companies:\n",
        "          return companies[0][\"name\"]\n",
        "    except:\n",
        "      return \"Unknown\"\n",
        "\n",
        "movies_df[\"main_company\"] = movies_df['production_companies'].apply(extract_main_company)"
      ],
      "metadata": {
        "id": "UHdL4u4TLggY"
      },
      "execution_count": 12,
      "outputs": []
    },
    {
      "cell_type": "code",
      "source": [
        "def join_keywords(kw_str):\n",
        "    try:\n",
        "      keywords = ast.literal_eval(kw_str)\n",
        "      return \"|\".join(sorted([k[\"name\"] for k in keywords]))\n",
        "    except:\n",
        "      return \"None\"\n",
        "\n",
        "movies_df[\"keyword_combo\"] = movies_df[\"keywords\"].apply(join_keywords)"
      ],
      "metadata": {
        "id": "A_AdmOcppTfD"
      },
      "execution_count": 13,
      "outputs": []
    },
    {
      "cell_type": "code",
      "source": [
        "def get_top_cast_names(cast_str, top_n=3):\n",
        "    try:\n",
        "        cast_list = ast.literal_eval(cast_str)\n",
        "        names = [actor[\"name\"] for actor in cast_list[:top_n]]\n",
        "        return \"|\".join(names)\n",
        "    except:\n",
        "        return \"Unknown\"\n",
        "\n",
        "movies_df[\"top_cast\"] = movies_df[\"cast\"].apply(lambda x: get_top_cast_names(x, 3))\n"
      ],
      "metadata": {
        "id": "Obr4499UqOnc"
      },
      "execution_count": 14,
      "outputs": []
    },
    {
      "cell_type": "code",
      "source": [
        "def get_director(crew_str):\n",
        "    try:\n",
        "        crew_list = ast.literal_eval(crew_str)\n",
        "        for member in crew_list:\n",
        "            if member.get(\"job\") == \"Director\":\n",
        "                return member.get(\"name\")\n",
        "    except:\n",
        "        return \"Unknown\"\n",
        "    return \"Unknown\"\n",
        "\n",
        "movies_df[\"director\"] = movies_df[\"crew\"].apply(get_director)\n"
      ],
      "metadata": {
        "id": "4BPwg7cPqVN8"
      },
      "execution_count": 15,
      "outputs": []
    },
    {
      "cell_type": "code",
      "source": [
        "movies_df.drop(columns=['genres', 'production_companies', 'keywords', 'cast', 'crew'], inplace=True)"
      ],
      "metadata": {
        "id": "ngLIPA_2vetB"
      },
      "execution_count": 16,
      "outputs": []
    },
    {
      "cell_type": "code",
      "source": [
        "movies_df['release_date'] = pd.to_datetime(movies_df['release_date'], errors='coerce')\n",
        "\n",
        "movies_df[\"release_year\"] = movies_df[\"release_date\"].dt.year\n",
        "movies_df[\"release_month\"] = movies_df[\"release_date\"].dt.month\n",
        "movies_df[\"release_dayofweek\"] = movies_df[\"release_date\"].dt.dayofweek\n",
        "\n",
        "movies_df = movies_df.drop(columns=[\"release_date\"])"
      ],
      "metadata": {
        "id": "-IwXbuk1Lo1H"
      },
      "execution_count": 17,
      "outputs": []
    },
    {
      "cell_type": "code",
      "source": [
        "movies_df[\"budget\"] = movies_df[\"budget\"].replace(0, movies_df[\"budget\"].median())\n",
        "scaler = MinMaxScaler()\n",
        "movies_df[\"scaled_budget\"] = scaler.fit_transform(movies_df[[\"budget\"]])\n",
        "\n",
        "movies_df[\"log_budget\"] = np.log1p(movies_df[\"budget\"])\n"
      ],
      "metadata": {
        "id": "t9z34qHGvlw_"
      },
      "execution_count": 18,
      "outputs": []
    },
    {
      "cell_type": "code",
      "source": [
        "label_encoders = {}\n",
        "for col in [\"original_language\", \"release_year\", \"release_month\", \"release_dayofweek\", \"genre_group\"]:\n",
        "    le = LabelEncoder()\n",
        "    movies_df[f\"encoded_{col}\"] = le.fit_transform(movies_df[col])\n",
        "    label_encoders[col] = le"
      ],
      "metadata": {
        "id": "-wZkq47UKMIG"
      },
      "execution_count": 19,
      "outputs": []
    },
    {
      "cell_type": "code",
      "source": [
        "movies_df[\"scaled_popularity\"] = scaler.fit_transform(movies_df[[\"popularity\"]])"
      ],
      "metadata": {
        "id": "3k7GfT1hKipO"
      },
      "execution_count": 20,
      "outputs": []
    },
    {
      "cell_type": "code",
      "source": [
        "movies_df[\"scaled_runtime\"] = scaler.fit_transform(movies_df[[\"runtime\"]])\n"
      ],
      "metadata": {
        "id": "d2qmNW--K1yv"
      },
      "execution_count": 21,
      "outputs": []
    },
    {
      "cell_type": "code",
      "source": [
        "movies_df[\"scaled_vote_average\"] = scaler.fit_transform(movies_df[[\"vote_average\"]])\n"
      ],
      "metadata": {
        "id": "OeP7jzPXLL54"
      },
      "execution_count": 22,
      "outputs": []
    },
    {
      "cell_type": "code",
      "source": [
        "movies_df[\"revenue_class\"] = pd.qcut(movies_df[\"revenue\"], q=3, labels=[\"Low\", \"Medium\", \"High\"])\n",
        "\n",
        "label_map = {\"Low\": 0, \"Medium\": 1, \"High\": 2}\n",
        "movies_df[\"encoded_revenue_class\"] = movies_df[\"revenue_class\"].map(label_map)\n",
        "\n"
      ],
      "metadata": {
        "id": "0kXN5qYv72JS"
      },
      "execution_count": 23,
      "outputs": []
    },
    {
      "cell_type": "code",
      "source": [
        "movies_df.columns"
      ],
      "metadata": {
        "colab": {
          "base_uri": "https://localhost:8080/"
        },
        "id": "IuN8AvNcMpN4",
        "outputId": "b19b5650-716e-4f99-83da-b7f49e8331f9"
      },
      "execution_count": 24,
      "outputs": [
        {
          "output_type": "execute_result",
          "data": {
            "text/plain": [
              "Index(['budget', 'original_language', 'popularity', 'revenue', 'runtime',\n",
              "       'vote_average', 'movie_id', 'genre_group', 'main_company',\n",
              "       'keyword_combo', 'top_cast', 'director', 'release_year',\n",
              "       'release_month', 'release_dayofweek', 'scaled_budget', 'log_budget',\n",
              "       'encoded_original_language', 'encoded_release_year',\n",
              "       'encoded_release_month', 'encoded_release_dayofweek',\n",
              "       'encoded_genre_group', 'scaled_popularity', 'scaled_runtime',\n",
              "       'scaled_vote_average', 'revenue_class', 'encoded_revenue_class'],\n",
              "      dtype='object')"
            ]
          },
          "metadata": {},
          "execution_count": 24
        }
      ]
    },
    {
      "cell_type": "code",
      "source": [
        "movies_df = movies_df.drop(columns=[\"budget\",\"original_language\",\"popularity\",\"revenue\",\"runtime\",\"vote_average\",'release_month','release_dayofweek','release_year'])"
      ],
      "metadata": {
        "id": "hRHuVa-6LZWa"
      },
      "execution_count": 25,
      "outputs": []
    },
    {
      "cell_type": "code",
      "source": [
        "movies_df[\"encoded_keywords\"] = LabelEncoder().fit_transform(movies_df[\"keyword_combo\"])\n"
      ],
      "metadata": {
        "id": "IQkyboHq0VuF"
      },
      "execution_count": 26,
      "outputs": []
    },
    {
      "cell_type": "code",
      "source": [
        "director_freq = movies_df[\"director\"].value_counts().to_dict()\n",
        "movies_df[\"director_freq\"] = movies_df[\"director\"].map(director_freq)\n",
        "\n",
        "\n",
        "company_freq = movies_df[\"main_company\"].value_counts().to_dict()\n",
        "movies_df[\"main_company_freq\"] = movies_df[\"main_company\"].map(company_freq)\n",
        "movies_df[\"main_company_freq\"] = movies_df[\"main_company_freq\"].fillna(0)\n",
        "\n",
        "\n",
        "cast_freq = movies_df[\"top_cast\"].value_counts().to_dict()\n",
        "movies_df[\"top_cast_freq\"] = movies_df[\"top_cast\"].map(cast_freq)\n"
      ],
      "metadata": {
        "id": "HXC-lY-GBifu"
      },
      "execution_count": 27,
      "outputs": []
    },
    {
      "cell_type": "code",
      "source": [
        "\n",
        "movies_df[\"budget_genre_combo\"] = movies_df[\"scaled_budget\"] * movies_df[\"encoded_genre_group\"]\n",
        "\n",
        "\n",
        "movies_df[\"popularity_year_combo\"] = movies_df[\"scaled_popularity\"] * movies_df[\"encoded_release_year\"]\n"
      ],
      "metadata": {
        "id": "F5WOilmLFqV3"
      },
      "execution_count": 28,
      "outputs": []
    },
    {
      "cell_type": "code",
      "source": [
        "movies_df = movies_df.drop(columns=[\"movie_id\",\"genre_group\",\"main_company\",\"top_cast\",\"director\",\"keyword_combo\"])"
      ],
      "metadata": {
        "id": "na_o1BJD02BD"
      },
      "execution_count": 29,
      "outputs": []
    },
    {
      "cell_type": "code",
      "source": [
        "movies_df.to_csv(\"movies_df_with_encoded_columns.csv\", index = False)"
      ],
      "metadata": {
        "id": "rzb0OuVA1BsF"
      },
      "execution_count": 30,
      "outputs": []
    },
    {
      "cell_type": "code",
      "source": [
        "movies_df[\"encoded_revenue_class\"].value_counts()"
      ],
      "metadata": {
        "colab": {
          "base_uri": "https://localhost:8080/",
          "height": 209
        },
        "id": "NJaKcnbyiCmo",
        "outputId": "7e95dce0-efe9-4252-d4e0-12d85faa0808"
      },
      "execution_count": 31,
      "outputs": [
        {
          "output_type": "execute_result",
          "data": {
            "text/plain": [
              "encoded_revenue_class\n",
              "0    1601\n",
              "1    1601\n",
              "2    1601\n",
              "Name: count, dtype: int64"
            ],
            "text/html": [
              "<div>\n",
              "<style scoped>\n",
              "    .dataframe tbody tr th:only-of-type {\n",
              "        vertical-align: middle;\n",
              "    }\n",
              "\n",
              "    .dataframe tbody tr th {\n",
              "        vertical-align: top;\n",
              "    }\n",
              "\n",
              "    .dataframe thead th {\n",
              "        text-align: right;\n",
              "    }\n",
              "</style>\n",
              "<table border=\"1\" class=\"dataframe\">\n",
              "  <thead>\n",
              "    <tr style=\"text-align: right;\">\n",
              "      <th></th>\n",
              "      <th>count</th>\n",
              "    </tr>\n",
              "    <tr>\n",
              "      <th>encoded_revenue_class</th>\n",
              "      <th></th>\n",
              "    </tr>\n",
              "  </thead>\n",
              "  <tbody>\n",
              "    <tr>\n",
              "      <th>0</th>\n",
              "      <td>1601</td>\n",
              "    </tr>\n",
              "    <tr>\n",
              "      <th>1</th>\n",
              "      <td>1601</td>\n",
              "    </tr>\n",
              "    <tr>\n",
              "      <th>2</th>\n",
              "      <td>1601</td>\n",
              "    </tr>\n",
              "  </tbody>\n",
              "</table>\n",
              "</div><br><label><b>dtype:</b> int64</label>"
            ]
          },
          "metadata": {},
          "execution_count": 31
        }
      ]
    },
    {
      "cell_type": "code",
      "source": [
        "movies_df.head()"
      ],
      "metadata": {
        "colab": {
          "base_uri": "https://localhost:8080/",
          "height": 226
        },
        "id": "ghIj9xpTDxY3",
        "outputId": "83291395-42e3-4b54-b5cc-74380084ea30"
      },
      "execution_count": 32,
      "outputs": [
        {
          "output_type": "execute_result",
          "data": {
            "text/plain": [
              "   scaled_budget  log_budget  encoded_original_language  encoded_release_year  \\\n",
              "0       0.623684   19.283571                          7                    81   \n",
              "1       0.789474   19.519293                          7                    79   \n",
              "2       0.644737   19.316769                          7                    87   \n",
              "3       0.657895   19.336971                          7                    84   \n",
              "4       0.684211   19.376192                          7                    84   \n",
              "\n",
              "   encoded_release_month  encoded_release_dayofweek  encoded_genre_group  \\\n",
              "0                     11                          3                   81   \n",
              "1                      4                          5                   77   \n",
              "2                      9                          0                   40   \n",
              "3                      6                          0                  161   \n",
              "4                      2                          2                   99   \n",
              "\n",
              "   scaled_popularity  scaled_runtime  scaled_vote_average revenue_class  \\\n",
              "0           0.171815        0.479290                 0.72          High   \n",
              "1           0.158846        0.500000                 0.69          High   \n",
              "2           0.122635        0.437870                 0.63          High   \n",
              "3           0.128272        0.488166                 0.76          High   \n",
              "4           0.050169        0.390533                 0.61          High   \n",
              "\n",
              "  encoded_revenue_class  encoded_keywords  director_freq  main_company_freq  \\\n",
              "0                     2               173              7               22.0   \n",
              "1                     2               481              7              114.0   \n",
              "2                     2              1924              7              200.0   \n",
              "3                     2              2067              8               16.0   \n",
              "4                     2               120              4              114.0   \n",
              "\n",
              "   top_cast_freq  budget_genre_combo  popularity_year_combo  \n",
              "0              1           50.518421              13.916976  \n",
              "1              2           60.789474              12.548836  \n",
              "2              1           25.789474              10.669233  \n",
              "3              1          105.921052              10.774885  \n",
              "4              1           67.736842               4.214192  "
            ],
            "text/html": [
              "\n",
              "  <div id=\"df-88780804-1678-4d90-8b9c-85b123c2fb7d\" class=\"colab-df-container\">\n",
              "    <div>\n",
              "<style scoped>\n",
              "    .dataframe tbody tr th:only-of-type {\n",
              "        vertical-align: middle;\n",
              "    }\n",
              "\n",
              "    .dataframe tbody tr th {\n",
              "        vertical-align: top;\n",
              "    }\n",
              "\n",
              "    .dataframe thead th {\n",
              "        text-align: right;\n",
              "    }\n",
              "</style>\n",
              "<table border=\"1\" class=\"dataframe\">\n",
              "  <thead>\n",
              "    <tr style=\"text-align: right;\">\n",
              "      <th></th>\n",
              "      <th>scaled_budget</th>\n",
              "      <th>log_budget</th>\n",
              "      <th>encoded_original_language</th>\n",
              "      <th>encoded_release_year</th>\n",
              "      <th>encoded_release_month</th>\n",
              "      <th>encoded_release_dayofweek</th>\n",
              "      <th>encoded_genre_group</th>\n",
              "      <th>scaled_popularity</th>\n",
              "      <th>scaled_runtime</th>\n",
              "      <th>scaled_vote_average</th>\n",
              "      <th>revenue_class</th>\n",
              "      <th>encoded_revenue_class</th>\n",
              "      <th>encoded_keywords</th>\n",
              "      <th>director_freq</th>\n",
              "      <th>main_company_freq</th>\n",
              "      <th>top_cast_freq</th>\n",
              "      <th>budget_genre_combo</th>\n",
              "      <th>popularity_year_combo</th>\n",
              "    </tr>\n",
              "  </thead>\n",
              "  <tbody>\n",
              "    <tr>\n",
              "      <th>0</th>\n",
              "      <td>0.623684</td>\n",
              "      <td>19.283571</td>\n",
              "      <td>7</td>\n",
              "      <td>81</td>\n",
              "      <td>11</td>\n",
              "      <td>3</td>\n",
              "      <td>81</td>\n",
              "      <td>0.171815</td>\n",
              "      <td>0.479290</td>\n",
              "      <td>0.72</td>\n",
              "      <td>High</td>\n",
              "      <td>2</td>\n",
              "      <td>173</td>\n",
              "      <td>7</td>\n",
              "      <td>22.0</td>\n",
              "      <td>1</td>\n",
              "      <td>50.518421</td>\n",
              "      <td>13.916976</td>\n",
              "    </tr>\n",
              "    <tr>\n",
              "      <th>1</th>\n",
              "      <td>0.789474</td>\n",
              "      <td>19.519293</td>\n",
              "      <td>7</td>\n",
              "      <td>79</td>\n",
              "      <td>4</td>\n",
              "      <td>5</td>\n",
              "      <td>77</td>\n",
              "      <td>0.158846</td>\n",
              "      <td>0.500000</td>\n",
              "      <td>0.69</td>\n",
              "      <td>High</td>\n",
              "      <td>2</td>\n",
              "      <td>481</td>\n",
              "      <td>7</td>\n",
              "      <td>114.0</td>\n",
              "      <td>2</td>\n",
              "      <td>60.789474</td>\n",
              "      <td>12.548836</td>\n",
              "    </tr>\n",
              "    <tr>\n",
              "      <th>2</th>\n",
              "      <td>0.644737</td>\n",
              "      <td>19.316769</td>\n",
              "      <td>7</td>\n",
              "      <td>87</td>\n",
              "      <td>9</td>\n",
              "      <td>0</td>\n",
              "      <td>40</td>\n",
              "      <td>0.122635</td>\n",
              "      <td>0.437870</td>\n",
              "      <td>0.63</td>\n",
              "      <td>High</td>\n",
              "      <td>2</td>\n",
              "      <td>1924</td>\n",
              "      <td>7</td>\n",
              "      <td>200.0</td>\n",
              "      <td>1</td>\n",
              "      <td>25.789474</td>\n",
              "      <td>10.669233</td>\n",
              "    </tr>\n",
              "    <tr>\n",
              "      <th>3</th>\n",
              "      <td>0.657895</td>\n",
              "      <td>19.336971</td>\n",
              "      <td>7</td>\n",
              "      <td>84</td>\n",
              "      <td>6</td>\n",
              "      <td>0</td>\n",
              "      <td>161</td>\n",
              "      <td>0.128272</td>\n",
              "      <td>0.488166</td>\n",
              "      <td>0.76</td>\n",
              "      <td>High</td>\n",
              "      <td>2</td>\n",
              "      <td>2067</td>\n",
              "      <td>8</td>\n",
              "      <td>16.0</td>\n",
              "      <td>1</td>\n",
              "      <td>105.921052</td>\n",
              "      <td>10.774885</td>\n",
              "    </tr>\n",
              "    <tr>\n",
              "      <th>4</th>\n",
              "      <td>0.684211</td>\n",
              "      <td>19.376192</td>\n",
              "      <td>7</td>\n",
              "      <td>84</td>\n",
              "      <td>2</td>\n",
              "      <td>2</td>\n",
              "      <td>99</td>\n",
              "      <td>0.050169</td>\n",
              "      <td>0.390533</td>\n",
              "      <td>0.61</td>\n",
              "      <td>High</td>\n",
              "      <td>2</td>\n",
              "      <td>120</td>\n",
              "      <td>4</td>\n",
              "      <td>114.0</td>\n",
              "      <td>1</td>\n",
              "      <td>67.736842</td>\n",
              "      <td>4.214192</td>\n",
              "    </tr>\n",
              "  </tbody>\n",
              "</table>\n",
              "</div>\n",
              "    <div class=\"colab-df-buttons\">\n",
              "\n",
              "  <div class=\"colab-df-container\">\n",
              "    <button class=\"colab-df-convert\" onclick=\"convertToInteractive('df-88780804-1678-4d90-8b9c-85b123c2fb7d')\"\n",
              "            title=\"Convert this dataframe to an interactive table.\"\n",
              "            style=\"display:none;\">\n",
              "\n",
              "  <svg xmlns=\"http://www.w3.org/2000/svg\" height=\"24px\" viewBox=\"0 -960 960 960\">\n",
              "    <path d=\"M120-120v-720h720v720H120Zm60-500h600v-160H180v160Zm220 220h160v-160H400v160Zm0 220h160v-160H400v160ZM180-400h160v-160H180v160Zm440 0h160v-160H620v160ZM180-180h160v-160H180v160Zm440 0h160v-160H620v160Z\"/>\n",
              "  </svg>\n",
              "    </button>\n",
              "\n",
              "  <style>\n",
              "    .colab-df-container {\n",
              "      display:flex;\n",
              "      gap: 12px;\n",
              "    }\n",
              "\n",
              "    .colab-df-convert {\n",
              "      background-color: #E8F0FE;\n",
              "      border: none;\n",
              "      border-radius: 50%;\n",
              "      cursor: pointer;\n",
              "      display: none;\n",
              "      fill: #1967D2;\n",
              "      height: 32px;\n",
              "      padding: 0 0 0 0;\n",
              "      width: 32px;\n",
              "    }\n",
              "\n",
              "    .colab-df-convert:hover {\n",
              "      background-color: #E2EBFA;\n",
              "      box-shadow: 0px 1px 2px rgba(60, 64, 67, 0.3), 0px 1px 3px 1px rgba(60, 64, 67, 0.15);\n",
              "      fill: #174EA6;\n",
              "    }\n",
              "\n",
              "    .colab-df-buttons div {\n",
              "      margin-bottom: 4px;\n",
              "    }\n",
              "\n",
              "    [theme=dark] .colab-df-convert {\n",
              "      background-color: #3B4455;\n",
              "      fill: #D2E3FC;\n",
              "    }\n",
              "\n",
              "    [theme=dark] .colab-df-convert:hover {\n",
              "      background-color: #434B5C;\n",
              "      box-shadow: 0px 1px 3px 1px rgba(0, 0, 0, 0.15);\n",
              "      filter: drop-shadow(0px 1px 2px rgba(0, 0, 0, 0.3));\n",
              "      fill: #FFFFFF;\n",
              "    }\n",
              "  </style>\n",
              "\n",
              "    <script>\n",
              "      const buttonEl =\n",
              "        document.querySelector('#df-88780804-1678-4d90-8b9c-85b123c2fb7d button.colab-df-convert');\n",
              "      buttonEl.style.display =\n",
              "        google.colab.kernel.accessAllowed ? 'block' : 'none';\n",
              "\n",
              "      async function convertToInteractive(key) {\n",
              "        const element = document.querySelector('#df-88780804-1678-4d90-8b9c-85b123c2fb7d');\n",
              "        const dataTable =\n",
              "          await google.colab.kernel.invokeFunction('convertToInteractive',\n",
              "                                                    [key], {});\n",
              "        if (!dataTable) return;\n",
              "\n",
              "        const docLinkHtml = 'Like what you see? Visit the ' +\n",
              "          '<a target=\"_blank\" href=https://colab.research.google.com/notebooks/data_table.ipynb>data table notebook</a>'\n",
              "          + ' to learn more about interactive tables.';\n",
              "        element.innerHTML = '';\n",
              "        dataTable['output_type'] = 'display_data';\n",
              "        await google.colab.output.renderOutput(dataTable, element);\n",
              "        const docLink = document.createElement('div');\n",
              "        docLink.innerHTML = docLinkHtml;\n",
              "        element.appendChild(docLink);\n",
              "      }\n",
              "    </script>\n",
              "  </div>\n",
              "\n",
              "\n",
              "    <div id=\"df-6ddc07d0-0c94-4555-a1b8-2e6987a5601b\">\n",
              "      <button class=\"colab-df-quickchart\" onclick=\"quickchart('df-6ddc07d0-0c94-4555-a1b8-2e6987a5601b')\"\n",
              "                title=\"Suggest charts\"\n",
              "                style=\"display:none;\">\n",
              "\n",
              "<svg xmlns=\"http://www.w3.org/2000/svg\" height=\"24px\"viewBox=\"0 0 24 24\"\n",
              "     width=\"24px\">\n",
              "    <g>\n",
              "        <path d=\"M19 3H5c-1.1 0-2 .9-2 2v14c0 1.1.9 2 2 2h14c1.1 0 2-.9 2-2V5c0-1.1-.9-2-2-2zM9 17H7v-7h2v7zm4 0h-2V7h2v10zm4 0h-2v-4h2v4z\"/>\n",
              "    </g>\n",
              "</svg>\n",
              "      </button>\n",
              "\n",
              "<style>\n",
              "  .colab-df-quickchart {\n",
              "      --bg-color: #E8F0FE;\n",
              "      --fill-color: #1967D2;\n",
              "      --hover-bg-color: #E2EBFA;\n",
              "      --hover-fill-color: #174EA6;\n",
              "      --disabled-fill-color: #AAA;\n",
              "      --disabled-bg-color: #DDD;\n",
              "  }\n",
              "\n",
              "  [theme=dark] .colab-df-quickchart {\n",
              "      --bg-color: #3B4455;\n",
              "      --fill-color: #D2E3FC;\n",
              "      --hover-bg-color: #434B5C;\n",
              "      --hover-fill-color: #FFFFFF;\n",
              "      --disabled-bg-color: #3B4455;\n",
              "      --disabled-fill-color: #666;\n",
              "  }\n",
              "\n",
              "  .colab-df-quickchart {\n",
              "    background-color: var(--bg-color);\n",
              "    border: none;\n",
              "    border-radius: 50%;\n",
              "    cursor: pointer;\n",
              "    display: none;\n",
              "    fill: var(--fill-color);\n",
              "    height: 32px;\n",
              "    padding: 0;\n",
              "    width: 32px;\n",
              "  }\n",
              "\n",
              "  .colab-df-quickchart:hover {\n",
              "    background-color: var(--hover-bg-color);\n",
              "    box-shadow: 0 1px 2px rgba(60, 64, 67, 0.3), 0 1px 3px 1px rgba(60, 64, 67, 0.15);\n",
              "    fill: var(--button-hover-fill-color);\n",
              "  }\n",
              "\n",
              "  .colab-df-quickchart-complete:disabled,\n",
              "  .colab-df-quickchart-complete:disabled:hover {\n",
              "    background-color: var(--disabled-bg-color);\n",
              "    fill: var(--disabled-fill-color);\n",
              "    box-shadow: none;\n",
              "  }\n",
              "\n",
              "  .colab-df-spinner {\n",
              "    border: 2px solid var(--fill-color);\n",
              "    border-color: transparent;\n",
              "    border-bottom-color: var(--fill-color);\n",
              "    animation:\n",
              "      spin 1s steps(1) infinite;\n",
              "  }\n",
              "\n",
              "  @keyframes spin {\n",
              "    0% {\n",
              "      border-color: transparent;\n",
              "      border-bottom-color: var(--fill-color);\n",
              "      border-left-color: var(--fill-color);\n",
              "    }\n",
              "    20% {\n",
              "      border-color: transparent;\n",
              "      border-left-color: var(--fill-color);\n",
              "      border-top-color: var(--fill-color);\n",
              "    }\n",
              "    30% {\n",
              "      border-color: transparent;\n",
              "      border-left-color: var(--fill-color);\n",
              "      border-top-color: var(--fill-color);\n",
              "      border-right-color: var(--fill-color);\n",
              "    }\n",
              "    40% {\n",
              "      border-color: transparent;\n",
              "      border-right-color: var(--fill-color);\n",
              "      border-top-color: var(--fill-color);\n",
              "    }\n",
              "    60% {\n",
              "      border-color: transparent;\n",
              "      border-right-color: var(--fill-color);\n",
              "    }\n",
              "    80% {\n",
              "      border-color: transparent;\n",
              "      border-right-color: var(--fill-color);\n",
              "      border-bottom-color: var(--fill-color);\n",
              "    }\n",
              "    90% {\n",
              "      border-color: transparent;\n",
              "      border-bottom-color: var(--fill-color);\n",
              "    }\n",
              "  }\n",
              "</style>\n",
              "\n",
              "      <script>\n",
              "        async function quickchart(key) {\n",
              "          const quickchartButtonEl =\n",
              "            document.querySelector('#' + key + ' button');\n",
              "          quickchartButtonEl.disabled = true;  // To prevent multiple clicks.\n",
              "          quickchartButtonEl.classList.add('colab-df-spinner');\n",
              "          try {\n",
              "            const charts = await google.colab.kernel.invokeFunction(\n",
              "                'suggestCharts', [key], {});\n",
              "          } catch (error) {\n",
              "            console.error('Error during call to suggestCharts:', error);\n",
              "          }\n",
              "          quickchartButtonEl.classList.remove('colab-df-spinner');\n",
              "          quickchartButtonEl.classList.add('colab-df-quickchart-complete');\n",
              "        }\n",
              "        (() => {\n",
              "          let quickchartButtonEl =\n",
              "            document.querySelector('#df-6ddc07d0-0c94-4555-a1b8-2e6987a5601b button');\n",
              "          quickchartButtonEl.style.display =\n",
              "            google.colab.kernel.accessAllowed ? 'block' : 'none';\n",
              "        })();\n",
              "      </script>\n",
              "    </div>\n",
              "\n",
              "    </div>\n",
              "  </div>\n"
            ],
            "application/vnd.google.colaboratory.intrinsic+json": {
              "type": "dataframe",
              "variable_name": "movies_df",
              "summary": "{\n  \"name\": \"movies_df\",\n  \"rows\": 4803,\n  \"fields\": [\n    {\n      \"column\": \"scaled_budget\",\n      \"properties\": {\n        \"dtype\": \"number\",\n        \"std\": 0.10220023414329937,\n        \"min\": 0.0,\n        \"max\": 1.0,\n        \"num_unique_values\": 435,\n        \"samples\": [\n          0.01789473425761772,\n          0.05263157645429362,\n          0.20564908212012917\n        ],\n        \"semantic_type\": \"\",\n        \"description\": \"\"\n      }\n    },\n    {\n      \"column\": \"log_budget\",\n      \"properties\": {\n        \"dtype\": \"number\",\n        \"std\": 1.7364622216981758,\n        \"min\": 0.6931471805599453,\n        \"max\": 19.755681813316283,\n        \"num_unique_values\": 435,\n        \"samples\": [\n          15.732433317205148,\n          16.811242881518265,\n          18.174097786019544\n        ],\n        \"semantic_type\": \"\",\n        \"description\": \"\"\n      }\n    },\n    {\n      \"column\": \"encoded_original_language\",\n      \"properties\": {\n        \"dtype\": \"number\",\n        \"std\": 3,\n        \"min\": 0,\n        \"max\": 36,\n        \"num_unique_values\": 37,\n        \"samples\": [\n          35,\n          30,\n          8\n        ],\n        \"semantic_type\": \"\",\n        \"description\": \"\"\n      }\n    },\n    {\n      \"column\": \"encoded_release_year\",\n      \"properties\": {\n        \"dtype\": \"number\",\n        \"std\": 12,\n        \"min\": 0,\n        \"max\": 89,\n        \"num_unique_values\": 90,\n        \"samples\": [\n          35,\n          63,\n          10\n        ],\n        \"semantic_type\": \"\",\n        \"description\": \"\"\n      }\n    },\n    {\n      \"column\": \"encoded_release_month\",\n      \"properties\": {\n        \"dtype\": \"number\",\n        \"std\": 3,\n        \"min\": 0,\n        \"max\": 11,\n        \"num_unique_values\": 12,\n        \"samples\": [\n          8,\n          7,\n          11\n        ],\n        \"semantic_type\": \"\",\n        \"description\": \"\"\n      }\n    },\n    {\n      \"column\": \"encoded_release_dayofweek\",\n      \"properties\": {\n        \"dtype\": \"number\",\n        \"std\": 1,\n        \"min\": 0,\n        \"max\": 6,\n        \"num_unique_values\": 7,\n        \"samples\": [\n          3,\n          5,\n          4\n        ],\n        \"semantic_type\": \"\",\n        \"description\": \"\"\n      }\n    },\n    {\n      \"column\": \"encoded_genre_group\",\n      \"properties\": {\n        \"dtype\": \"number\",\n        \"std\": 174,\n        \"min\": 0,\n        \"max\": 637,\n        \"num_unique_values\": 638,\n        \"samples\": [\n          243,\n          623,\n          37\n        ],\n        \"semantic_type\": \"\",\n        \"description\": \"\"\n      }\n    },\n    {\n      \"column\": \"scaled_popularity\",\n      \"properties\": {\n        \"dtype\": \"number\",\n        \"std\": 0.036337744499396,\n        \"min\": 0.0,\n        \"max\": 1.0,\n        \"num_unique_values\": 4802,\n        \"samples\": [\n          0.015152940023085575,\n          1.2459151352026639e-05,\n          0.006672480290108523\n        ],\n        \"semantic_type\": \"\",\n        \"description\": \"\"\n      }\n    },\n    {\n      \"column\": \"scaled_runtime\",\n      \"properties\": {\n        \"dtype\": \"number\",\n        \"std\": 0.06688569100757319,\n        \"min\": 0.0,\n        \"max\": 1.0,\n        \"num_unique_values\": 156,\n        \"samples\": [\n          0.21893491124260356,\n          0.2514792899408284,\n          0.5029585798816568\n        ],\n        \"semantic_type\": \"\",\n        \"description\": \"\"\n      }\n    },\n    {\n      \"column\": \"scaled_vote_average\",\n      \"properties\": {\n        \"dtype\": \"number\",\n        \"std\": 0.11946121628478945,\n        \"min\": 0.0,\n        \"max\": 1.0,\n        \"num_unique_values\": 71,\n        \"samples\": [\n          0.51,\n          0.7200000000000001,\n          0.4\n        ],\n        \"semantic_type\": \"\",\n        \"description\": \"\"\n      }\n    },\n    {\n      \"column\": \"revenue_class\",\n      \"properties\": {\n        \"dtype\": \"category\",\n        \"num_unique_values\": 3,\n        \"samples\": [\n          \"High\",\n          \"Low\",\n          \"Medium\"\n        ],\n        \"semantic_type\": \"\",\n        \"description\": \"\"\n      }\n    },\n    {\n      \"column\": \"encoded_revenue_class\",\n      \"properties\": {\n        \"dtype\": \"category\",\n        \"num_unique_values\": 3,\n        \"samples\": [\n          2,\n          0,\n          1\n        ],\n        \"semantic_type\": \"\",\n        \"description\": \"\"\n      }\n    },\n    {\n      \"column\": \"encoded_keywords\",\n      \"properties\": {\n        \"dtype\": \"number\",\n        \"std\": 1338,\n        \"min\": 0,\n        \"max\": 4221,\n        \"num_unique_values\": 4222,\n        \"samples\": [\n          1505,\n          3746,\n          2010\n        ],\n        \"semantic_type\": \"\",\n        \"description\": \"\"\n      }\n    },\n    {\n      \"column\": \"director_freq\",\n      \"properties\": {\n        \"dtype\": \"number\",\n        \"std\": 4,\n        \"min\": 1,\n        \"max\": 30,\n        \"num_unique_values\": 20,\n        \"samples\": [\n          7,\n          15,\n          20\n        ],\n        \"semantic_type\": \"\",\n        \"description\": \"\"\n      }\n    },\n    {\n      \"column\": \"main_company_freq\",\n      \"properties\": {\n        \"dtype\": \"number\",\n        \"std\": 92.43608349823597,\n        \"min\": 0.0,\n        \"max\": 281.0,\n        \"num_unique_values\": 44,\n        \"samples\": [\n          11.0,\n          35.0,\n          32.0\n        ],\n        \"semantic_type\": \"\",\n        \"description\": \"\"\n      }\n    },\n    {\n      \"column\": \"top_cast_freq\",\n      \"properties\": {\n        \"dtype\": \"number\",\n        \"std\": 3,\n        \"min\": 1,\n        \"max\": 43,\n        \"num_unique_values\": 6,\n        \"samples\": [\n          1,\n          2,\n          43\n        ],\n        \"semantic_type\": \"\",\n        \"description\": \"\"\n      }\n    },\n    {\n      \"column\": \"budget_genre_combo\",\n      \"properties\": {\n        \"dtype\": \"number\",\n        \"std\": 29.24036727584466,\n        \"min\": 0.0,\n        \"max\": 305.2631571717452,\n        \"num_unique_values\": 3014,\n        \"samples\": [\n          129.7499989756579,\n          4.088946176549858,\n          6.368420779916897\n        ],\n        \"semantic_type\": \"\",\n        \"description\": \"\"\n      }\n    },\n    {\n      \"column\": \"popularity_year_combo\",\n      \"properties\": {\n        \"dtype\": \"number\",\n        \"std\": 3.0199751588293258,\n        \"min\": 0.0,\n        \"max\": 87.0,\n        \"num_unique_values\": 4802,\n        \"samples\": [\n          1.1213175617083326,\n          0.4411720691089903,\n          0.5071085020482478\n        ],\n        \"semantic_type\": \"\",\n        \"description\": \"\"\n      }\n    }\n  ]\n}"
            }
          },
          "metadata": {},
          "execution_count": 32
        }
      ]
    },
    {
      "cell_type": "markdown",
      "source": [
        "##1. Split Features and Target"
      ],
      "metadata": {
        "id": "vYwdTnAe_kGQ"
      }
    },
    {
      "cell_type": "code",
      "source": [
        "X = movies_df.drop(columns=['revenue_class', 'encoded_revenue_class'])\n",
        "y = movies_df['encoded_revenue_class']"
      ],
      "metadata": {
        "id": "iEYmf_YL_lG0"
      },
      "execution_count": 33,
      "outputs": []
    },
    {
      "cell_type": "code",
      "source": [
        "X_train, X_temp, y_train, y_temp = train_test_split(X, y, test_size=0.4, stratify=y)\n",
        "X_val, X_test, y_val, y_test = train_test_split(X_temp, y_temp, test_size=0.5, stratify=y_temp)"
      ],
      "metadata": {
        "id": "DcNlI_lm_o7M"
      },
      "execution_count": 34,
      "outputs": []
    },
    {
      "cell_type": "code",
      "source": [
        "scaler = StandardScaler()\n",
        "X_train_scaled = scaler.fit_transform(X_train)\n",
        "X_val_scaled = scaler.transform(X_val)\n",
        "X_test_scaled = scaler.transform(X_test)"
      ],
      "metadata": {
        "id": "RxLqMx6-_rSx"
      },
      "execution_count": 35,
      "outputs": []
    },
    {
      "cell_type": "code",
      "source": [
        "class MovieDataset(Dataset):\n",
        "    def __init__(self, features, labels):\n",
        "        self.X = torch.tensor(features, dtype=torch.float32)\n",
        "        self.y = torch.tensor(labels.values, dtype=torch.long)\n",
        "\n",
        "    def __len__(self):\n",
        "        return len(self.X)\n",
        "\n",
        "    def __getitem__(self, idx):\n",
        "        return self.X[idx], self.y[idx]\n",
        "\n",
        "\n",
        "train_dataset = MovieDataset(X_train_scaled, y_train)\n",
        "val_dataset = MovieDataset(X_val_scaled, y_val)\n",
        "test_dataset = MovieDataset(X_test_scaled, y_test)\n",
        "\n",
        "\n",
        "train_loader = DataLoader(train_dataset, batch_size=64, shuffle=True)\n",
        "val_loader = DataLoader(val_dataset, batch_size=64)\n",
        "test_loader = DataLoader(test_dataset, batch_size=64)\n"
      ],
      "metadata": {
        "id": "3ISQ9vO8_y-8"
      },
      "execution_count": 36,
      "outputs": []
    },
    {
      "cell_type": "code",
      "source": [
        "class TabularTransformer(nn.Module):\n",
        "    def __init__(self, input_dim, model_dim=64, num_classes=3, num_heads=4, num_layers=2, dropout=0.1):\n",
        "        super(TabularTransformer, self).__init__()\n",
        "\n",
        "        self.input_dim = input_dim\n",
        "        self.model_dim = model_dim\n",
        "\n",
        "\n",
        "        self.input_projection = nn.Linear(input_dim, model_dim)\n",
        "\n",
        "\n",
        "\n",
        "\n",
        "        encoder_layer = nn.TransformerEncoderLayer(\n",
        "            d_model=model_dim,\n",
        "            nhead=num_heads,\n",
        "            dim_feedforward=128,\n",
        "            dropout=dropout,\n",
        "            activation='relu',\n",
        "            batch_first=True\n",
        "        )\n",
        "        self.transformer_encoder = nn.TransformerEncoder(encoder_layer, num_layers=num_layers)\n",
        "\n",
        "\n",
        "        self.classifier = nn.Sequential(\n",
        "            nn.Linear(model_dim, 64),\n",
        "            nn.ReLU(),\n",
        "            nn.Dropout(dropout),\n",
        "            nn.Linear(64, num_classes)\n",
        "        )\n",
        "\n",
        "    def forward(self, x):\n",
        "\n",
        "        x = x.unsqueeze(1)\n",
        "\n",
        "\n",
        "        x = self.input_projection(x)\n",
        "\n",
        "\n",
        "        x = self.transformer_encoder(x)\n",
        "\n",
        "\n",
        "        x = x.squeeze(1)\n",
        "\n",
        "\n",
        "        out = self.classifier(x)\n",
        "        return out\n"
      ],
      "metadata": {
        "id": "GT0GV_teANOL"
      },
      "execution_count": 37,
      "outputs": []
    },
    {
      "cell_type": "code",
      "source": [
        "model = TabularTransformer(input_dim=X_train.shape[1])"
      ],
      "metadata": {
        "id": "9k7jMlDzBKuX"
      },
      "execution_count": 38,
      "outputs": []
    },
    {
      "cell_type": "code",
      "source": [
        "device = torch.device(\"cuda\" if torch.cuda.is_available() else \"cpu\")\n",
        "model = model.to(device)\n",
        "\n",
        "criterion = nn.CrossEntropyLoss()\n",
        "optimizer = optim.AdamW(model.parameters(), lr=1e-3, weight_decay=1e-4)\n"
      ],
      "metadata": {
        "id": "t5J9uJlfBMfb"
      },
      "execution_count": 39,
      "outputs": []
    },
    {
      "cell_type": "code",
      "source": [
        "def train_one_epoch(model, dataloader, optimizer, criterion):\n",
        "    model.train()\n",
        "    running_loss = 0.0\n",
        "    correct = 0\n",
        "\n",
        "    for X_batch, y_batch in dataloader:\n",
        "        X_batch, y_batch = X_batch.to(device), y_batch.to(device)\n",
        "\n",
        "        optimizer.zero_grad()\n",
        "        outputs = model(X_batch)\n",
        "\n",
        "        loss = criterion(outputs, y_batch)\n",
        "        loss.backward()\n",
        "        optimizer.step()\n",
        "\n",
        "        running_loss += loss.item() * X_batch.size(0)\n",
        "        preds = outputs.argmax(dim=1)\n",
        "        correct += (preds == y_batch).sum().item()\n",
        "\n",
        "    epoch_loss = running_loss / len(dataloader.dataset)\n",
        "    epoch_acc = correct / len(dataloader.dataset)\n",
        "    return epoch_loss, epoch_acc\n"
      ],
      "metadata": {
        "id": "qQDoL1CtBY4f"
      },
      "execution_count": 40,
      "outputs": []
    },
    {
      "cell_type": "code",
      "source": [
        "@torch.no_grad()\n",
        "def evaluate(model, dataloader, criterion):\n",
        "    model.eval()\n",
        "    running_loss = 0.0\n",
        "    correct = 0\n",
        "\n",
        "    for X_batch, y_batch in dataloader:\n",
        "        X_batch, y_batch = X_batch.to(device), y_batch.to(device)\n",
        "        outputs = model(X_batch)\n",
        "\n",
        "        loss = criterion(outputs, y_batch)\n",
        "        running_loss += loss.item() * X_batch.size(0)\n",
        "        preds = outputs.argmax(dim=1)\n",
        "        correct += (preds == y_batch).sum().item()\n",
        "\n",
        "    epoch_loss = running_loss / len(dataloader.dataset)\n",
        "    epoch_acc = correct / len(dataloader.dataset)\n",
        "    return epoch_loss, epoch_acc\n"
      ],
      "metadata": {
        "id": "cyhUykUzBbnt"
      },
      "execution_count": 41,
      "outputs": []
    },
    {
      "cell_type": "code",
      "source": [
        "n_epochs = 20\n",
        "best_val_acc = 0.0\n",
        "\n",
        "for epoch in range(n_epochs):\n",
        "    train_loss, train_acc = train_one_epoch(model, train_loader, optimizer, criterion)\n",
        "    val_loss, val_acc = evaluate(model, val_loader, criterion)\n",
        "\n",
        "    if val_acc > best_val_acc:\n",
        "        best_val_acc = val_acc\n",
        "        torch.save(model.state_dict(), \"best_model.pt\")\n",
        "\n",
        "    print(f\"Epoch {epoch+1}/{n_epochs} | Train Loss: {train_loss:.4f}, Acc: {train_acc:.4f} | Val Loss: {val_loss:.4f}, Acc: {val_acc:.4f}\")\n"
      ],
      "metadata": {
        "colab": {
          "base_uri": "https://localhost:8080/"
        },
        "id": "LDzE2WWkBdTv",
        "outputId": "1ead4cb9-b2a4-4b28-ae13-5d9adcfed83e"
      },
      "execution_count": 42,
      "outputs": [
        {
          "output_type": "stream",
          "name": "stdout",
          "text": [
            "Epoch 1/20 | Train Loss: 0.8328, Acc: 0.6033 | Val Loss: 0.6851, Acc: 0.6982\n",
            "Epoch 2/20 | Train Loss: 0.7121, Acc: 0.6775 | Val Loss: 0.6544, Acc: 0.6982\n",
            "Epoch 3/20 | Train Loss: 0.6762, Acc: 0.6928 | Val Loss: 0.6288, Acc: 0.7149\n",
            "Epoch 4/20 | Train Loss: 0.6861, Acc: 0.6855 | Val Loss: 0.6393, Acc: 0.7180\n",
            "Epoch 5/20 | Train Loss: 0.6820, Acc: 0.6852 | Val Loss: 0.6252, Acc: 0.7253\n",
            "Epoch 6/20 | Train Loss: 0.6542, Acc: 0.7084 | Val Loss: 0.6280, Acc: 0.7242\n",
            "Epoch 7/20 | Train Loss: 0.6379, Acc: 0.7171 | Val Loss: 0.6241, Acc: 0.7336\n",
            "Epoch 8/20 | Train Loss: 0.6594, Acc: 0.7095 | Val Loss: 0.6335, Acc: 0.7138\n",
            "Epoch 9/20 | Train Loss: 0.6340, Acc: 0.7123 | Val Loss: 0.6336, Acc: 0.7138\n",
            "Epoch 10/20 | Train Loss: 0.6283, Acc: 0.7331 | Val Loss: 0.6095, Acc: 0.7492\n",
            "Epoch 11/20 | Train Loss: 0.6474, Acc: 0.6970 | Val Loss: 0.6198, Acc: 0.7347\n",
            "Epoch 12/20 | Train Loss: 0.6223, Acc: 0.7320 | Val Loss: 0.6227, Acc: 0.7419\n",
            "Epoch 13/20 | Train Loss: 0.6094, Acc: 0.7237 | Val Loss: 0.6181, Acc: 0.7357\n",
            "Epoch 14/20 | Train Loss: 0.6122, Acc: 0.7188 | Val Loss: 0.6123, Acc: 0.7315\n",
            "Epoch 15/20 | Train Loss: 0.6035, Acc: 0.7393 | Val Loss: 0.6259, Acc: 0.7253\n",
            "Epoch 16/20 | Train Loss: 0.6000, Acc: 0.7365 | Val Loss: 0.6046, Acc: 0.7419\n",
            "Epoch 17/20 | Train Loss: 0.5900, Acc: 0.7327 | Val Loss: 0.6297, Acc: 0.7315\n",
            "Epoch 18/20 | Train Loss: 0.6117, Acc: 0.7369 | Val Loss: 0.6082, Acc: 0.7409\n",
            "Epoch 19/20 | Train Loss: 0.5860, Acc: 0.7379 | Val Loss: 0.6384, Acc: 0.7284\n",
            "Epoch 20/20 | Train Loss: 0.5774, Acc: 0.7470 | Val Loss: 0.6159, Acc: 0.7399\n"
          ]
        }
      ]
    },
    {
      "cell_type": "code",
      "source": [
        "model.load_state_dict(torch.load(\"best_model.pt\"))\n",
        "test_loss, test_acc = evaluate(model, test_loader, criterion)\n",
        "print(f\"Test Loss: {test_loss:.4f}, Accuracy: {test_acc:.4f}\")"
      ],
      "metadata": {
        "colab": {
          "base_uri": "https://localhost:8080/"
        },
        "id": "9DS6GKOsBe6a",
        "outputId": "9c85e6d9-845c-4e55-c074-a82d823513ed"
      },
      "execution_count": 43,
      "outputs": [
        {
          "output_type": "stream",
          "name": "stdout",
          "text": [
            "Test Loss: 0.6564, Accuracy: 0.6993\n"
          ]
        }
      ]
    },
    {
      "cell_type": "code",
      "source": [
        "model.eval()\n",
        "all_preds, all_targets = [], []\n",
        "\n",
        "with torch.no_grad():\n",
        "    for X_batch, y_batch in test_loader:\n",
        "        X_batch = X_batch.to(device)\n",
        "        outputs = model(X_batch)\n",
        "        preds = outputs.argmax(dim=1).cpu().numpy()\n",
        "        all_preds.extend(preds)\n",
        "        all_targets.extend(y_batch.numpy())\n",
        "\n",
        "print(classification_report(all_targets, all_preds, target_names=[\"Low\", \"Medium\", \"High\"]))\n"
      ],
      "metadata": {
        "colab": {
          "base_uri": "https://localhost:8080/"
        },
        "id": "XJqiRqUIBloA",
        "outputId": "dc2051d0-87da-4ff5-f61f-2b8163e4d154"
      },
      "execution_count": 44,
      "outputs": [
        {
          "output_type": "stream",
          "name": "stdout",
          "text": [
            "              precision    recall  f1-score   support\n",
            "\n",
            "         Low       0.74      0.70      0.72       320\n",
            "      Medium       0.56      0.61      0.59       320\n",
            "        High       0.81      0.79      0.80       321\n",
            "\n",
            "    accuracy                           0.70       961\n",
            "   macro avg       0.71      0.70      0.70       961\n",
            "weighted avg       0.71      0.70      0.70       961\n",
            "\n"
          ]
        }
      ]
    },
    {
      "cell_type": "code",
      "source": [
        "revenue_class_map = {0: \"Low\", 1: \"Medium\", 2: \"High\"}\n",
        "\n",
        "def predict_movie(model, X_input):\n",
        "    model.eval()\n",
        "    with torch.no_grad():\n",
        "        X_tensor = torch.tensor(X_input, dtype=torch.float32).unsqueeze(0).to(device)\n",
        "        output = model(X_tensor)\n",
        "        pred_class = output.argmax(dim=1).item()\n",
        "        return revenue_class_map[pred_class]\n",
        "\n",
        "predictions = []\n",
        "for i in range(5):\n",
        "    sample_features = X_test_scaled[i]\n",
        "    actual_class = y_test.iloc[i]\n",
        "    predicted_class = predict_movie(model, sample_features)\n",
        "    print(f\" Movie #{i+1} → Predicted: {predicted_class} | Actual: {revenue_class_map[actual_class]}\")\n"
      ],
      "metadata": {
        "colab": {
          "base_uri": "https://localhost:8080/"
        },
        "id": "xwNZF2jZB2GS",
        "outputId": "6c46a9a0-2285-4217-e75e-bde9d170067b"
      },
      "execution_count": 45,
      "outputs": [
        {
          "output_type": "stream",
          "name": "stdout",
          "text": [
            " Movie #1 → Predicted: Low | Actual: Low\n",
            " Movie #2 → Predicted: Low | Actual: Low\n",
            " Movie #3 → Predicted: Medium | Actual: Medium\n",
            " Movie #4 → Predicted: Low | Actual: Low\n",
            " Movie #5 → Predicted: Low | Actual: Medium\n"
          ]
        }
      ]
    },
    {
      "cell_type": "code",
      "source": [
        "for i in range(5):\n",
        "    sample_features = X_test_scaled[i]\n",
        "    actual_class = y_test.iloc[i]\n",
        "    predicted_class = predict_movie(model, sample_features)\n",
        "\n",
        "    print(f\"Movie {i+1}:\")\n",
        "    print(f\"   Predicted: {predicted_class}\")\n",
        "    print(f\"   Actual:    {revenue_class_map[actual_class]}\")\n",
        "    print()"
      ],
      "metadata": {
        "colab": {
          "base_uri": "https://localhost:8080/"
        },
        "id": "TWnTjTM1cVPg",
        "outputId": "948b082c-1b96-4fcd-917b-02c8dc7bad53"
      },
      "execution_count": 46,
      "outputs": [
        {
          "output_type": "stream",
          "name": "stdout",
          "text": [
            "Movie 1:\n",
            "   Predicted: Low\n",
            "   Actual:    Low\n",
            "\n",
            "Movie 2:\n",
            "   Predicted: Low\n",
            "   Actual:    Low\n",
            "\n",
            "Movie 3:\n",
            "   Predicted: Medium\n",
            "   Actual:    Medium\n",
            "\n",
            "Movie 4:\n",
            "   Predicted: Low\n",
            "   Actual:    Low\n",
            "\n",
            "Movie 5:\n",
            "   Predicted: Low\n",
            "   Actual:    Medium\n",
            "\n"
          ]
        }
      ]
    },
    {
      "cell_type": "code",
      "source": [
        "revenue_class_map = {0: \"Low\", 1: \"Medium\", 2: \"High\"}\n",
        "\n",
        "def predict_movie(model, X_input):\n",
        "    model.eval()\n",
        "    with torch.no_grad():\n",
        "        X_tensor = torch.tensor(X_input, dtype=torch.float32).unsqueeze(0).to(device)\n",
        "        output = model(X_tensor)\n",
        "        pred_class = output.argmax(dim=1).item()\n",
        "        return revenue_class_map[pred_class]\n"
      ],
      "metadata": {
        "id": "X8W3eD3NclHe"
      },
      "execution_count": 47,
      "outputs": []
    },
    {
      "cell_type": "code",
      "source": [
        "new_movie_raw = {\n",
        "    \"scaled_budget\": 0.43,\n",
        "    \"encoded_language\": 3,\n",
        "    \"scaled_popularity\": 0.2,\n",
        "    \"encoded_release_year\": 30,\n",
        "    \"encoded_release_month\": 5,\n",
        "    \"encoded_release_dayofweek\": 3,\n",
        "    \"scaled_runtime\": 0.5,\n",
        "    \"scaled_vote_average\": 0.8,\n",
        "\n",
        "}\n",
        "\n",
        "\n",
        "columns = X_train.columns.tolist()\n",
        "new_movie_df = pd.DataFrame([new_movie_raw], columns=columns)\n",
        "\n",
        "\n",
        "\n",
        "new_movie_scaled = scaler.transform(new_movie_df)\n",
        "\n",
        "\n",
        "\n",
        "print(\"Predicted revenue class:\", predict_movie(model, new_movie_scaled[0]))\n"
      ],
      "metadata": {
        "colab": {
          "base_uri": "https://localhost:8080/"
        },
        "id": "G7Jrnjtdc0To",
        "outputId": "3c8a514a-0563-4d15-d68b-af5ee3f60cc1"
      },
      "execution_count": 48,
      "outputs": [
        {
          "output_type": "stream",
          "name": "stdout",
          "text": [
            "Predicted revenue class: Low\n"
          ]
        }
      ]
    }
  ]
}